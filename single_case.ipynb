{
 "cells": [
  {
   "cell_type": "code",
   "execution_count": 1,
   "id": "f730e56c-dd1a-4561-ab2f-a29022a4d318",
   "metadata": {},
   "outputs": [],
   "source": [
    "import function.functions as functions\n",
    "\n",
    "from qutip import *\n",
    "import numpy as np\n",
    "import matplotlib.pyplot as plt\n",
    "import matplotlib as mpl\n",
    "import importlib\n",
    "import sys\n",
    "\n",
    "plt.rcParams['text.usetex'] = True\n",
    "params = {\n",
    "    \"backend\": \"ps\",\n",
    "    \"axes.labelsize\": 22,\n",
    "    \"font.size\": 22,\n",
    "    \"legend.fontsize\": 10,\n",
    "    \"xtick.labelsize\": 20,\n",
    "    \"ytick.labelsize\": 20,\n",
    "    \"text.usetex\": True,\n",
    "    \"font.family\": \"serif\",\n",
    "    \"font.serif\": \"Computer Modern Roman\",\n",
    "    \"legend.frameon\": True,\n",
    "    \"savefig.dpi\": 100,\n",
    "    \"axes.linewidth\": 1.5,\n",
    "    'xtick.major.size' : 10,\n",
    "    'xtick.major.width': 1,\n",
    "    'xtick.minor.size': 7,\n",
    "    'xtick.minor.width': 1,\n",
    "    'ytick.major.size' : 10,\n",
    "    'ytick.major.width': 1,\n",
    "    'ytick.minor.size': 7,\n",
    "    'ytick.minor.width': 1,\n",
    "    'axes.xmargin' : 0,\n",
    "    'axes.ymargin' : 0,\n",
    "}\n",
    "plt.rcParams.update(params)\n",
    "plt.rc('text.latex', preamble=r'\\usepackage{amsmath}')\n",
    "plt.rc('text', usetex=True)"
   ]
  },
  {
   "cell_type": "code",
   "execution_count": 2,
   "id": "3bbfccf8",
   "metadata": {},
   "outputs": [],
   "source": [
    "# Set device and parameters in this part\n",
    "\n",
    "############################ Select device ##############################\n",
    "# parameters of the device can be set in the parameters folder\n",
    "device = 'transmon' # change here to change the device: charge_qubit, flopping_spin, flopping_charge, transmon, fluxonium\n",
    "\n",
    "device_module = importlib.import_module('parameters.' + device)\n",
    "globals().update(vars(device_module)) # import parameters of the device\n",
    "###############################################################################\n",
    "\n",
    "########################### Parameters of the paper ###########################\n",
    "if device == 'charge_qubit':\n",
    "    A_q = 0.05*wq\n",
    "    ground, excited = 0, 1\n",
    "\n",
    "    w_d = 0.9*wq # frequency at which the qubit is driven\n",
    "                   # repeat the simulation for 0.3, 0.8, 0.9, 1.095, 1.15, 1.5 to obtain the data for Fig. 2a  of the main and Fig. S2a of the supplementary material\n",
    "\n",
    "    w_d_disp = 0.9*wq # frequency at which the cavity is driven for dispersive readout\n",
    "                        # in the paper, 0.9 for w_r < w_q and 1.095 for w_r > w_q\n",
    "\n",
    "    compensation = False # no need to compensate the charge qubit\n",
    "    dispersive = True # dispersive readout\n",
    "\n",
    "elif device == 'flopping_spin':\n",
    "    A_q = 0.2*wq\n",
    "    ground, excited = 0, 1\n",
    "    w_d = 1.4*wq # frequency at which the qubit is driven  \n",
    "    w_d_disp = 1.4*wq # frequency at which the cavity is driven for dispersive readout\n",
    "\n",
    "    compensation = True # both True and False in the paper\n",
    "    dispersive = False # dispersive readout\n",
    "\n",
    "elif device == 'transmon':\n",
    "    A_q = 0.037*wq\n",
    "    ground, excited = 0, 1\n",
    "    w_d = 0.77*wq # frequency at which the qubit is driven\n",
    "    w_d_disp = 0.77*wq # frequency at which the cavity is driven for dispersive readout\n",
    "    compensation = True\n",
    "    dispersive = False # dispersive readout\n",
    "\n",
    "elif device == 'fluxonium':\n",
    "    A_q = 0.6*wq\n",
    "    ground, excited = 0, 1\n",
    "    w_d = 2.92*wq # frequency at which the qubit is driven\n",
    "    w_d_disp = 2.92*wq # frequency at which the cavity is driven for dispersive readout\n",
    "    compensation = True\n",
    "    dispersive = False # dispersive readout\n",
    "\n",
    "qubit_state_list = [ground, excited]\n",
    "tlist = np.linspace(0,8/kappa,num=500)\n",
    "################################################################################\n",
    "\n",
    "########################### Custom parameters #################################\n",
    "# test other parameters A_q, ground, excited, w_r, w_r_disp, compensation\n",
    "\n",
    "save_file = True # test mode or save data to generate the data of the figure of the paper\n",
    "################################################################################"
   ]
  },
  {
   "cell_type": "code",
   "execution_count": 3,
   "id": "2dbc35a4-56bc-45c9-a5f5-0ea1d2e18135",
   "metadata": {},
   "outputs": [
    {
     "name": "stdout",
     "output_type": "stream",
     "text": [
      "derivatives of the spectrum computed in A_q/w_q=0.03709367088607596\n"
     ]
    }
   ],
   "source": [
    "############################# Longitudinal readout ##############################\n",
    "A_list, dd_real, dd2_real = functions.get_derivatives(N_rep,A_q,H_sys,drive_op,[w_d],n_states,num_A)\n",
    "\n",
    "index_A = np.abs(A_list-A_q).argmin()\n",
    "\n",
    "print('derivatives of the spectrum computed in A_q/w_q='+str(A_list[index_A]/wq))\n",
    "\n",
    "g1 = g*dd_real[0,index_A,excited]\n",
    "g0 = g*dd_real[0,index_A,ground]\n",
    "\n",
    "chi1 = g**2*(dd2_real[0,index_A,excited]+1/A_q*dd_real[0,index_A,excited])\n",
    "chi0 = g**2*(dd2_real[0,index_A,ground]+1/A_q*dd_real[0,index_A,ground])\n",
    "\n",
    "g_parallel = 1/2*(g1-g0)\n",
    "chi = 1/2*(chi1-chi0)\n",
    "\n",
    "g_sum = 1/2*(g1+g0)\n",
    "chi_sum = 1/2*(chi1+chi0)\n",
    "\n",
    "if(compensation):\n",
    "    w_r = w_d-chi_sum # shifted resonator frequency\n",
    "    A_d = -2*g_sum # compensation tone\n",
    "else:\n",
    "    w_r = w_d\n",
    "    A_d = 0\n",
    "\n",
    "############################# Dispersive readout ##############################\n",
    "dd2_real_disp = functions.get_derivatives(N_rep,0.01*wq,H_sys,drive_op,[w_d_disp],n_states,num_A)[2]\n",
    "\n",
    "chi_disp1 = g**2*dd2_real_disp[0,2,excited]\n",
    "chi_disp0 = g**2*dd2_real_disp[0,2,ground]\n",
    "\n",
    "chi_disp = chi_disp1-chi_disp0\n",
    "chi_disp_sum = chi_disp1+chi_disp0\n",
    "\n",
    "A_r = g_parallel*kappa/chi_disp*(chi_disp**2+kappa**2/4)/(chi**2+kappa**2/4) # match steady state SNR of longitudinal readout\n",
    "phi = 3/2*np.pi # for dispersive readout\n",
    "\n",
    "if(compensation):\n",
    "    w_r_disp = w_d_disp-chi_disp_sum # shifted resonator frequency\n",
    "else:\n",
    "    w_r_disp = w_d_disp"
   ]
  },
  {
   "cell_type": "code",
   "execution_count": 4,
   "id": "b815d5c1",
   "metadata": {},
   "outputs": [
    {
     "data": {
      "text/plain": [
       "-0.0004635621068259485"
      ]
     },
     "execution_count": 4,
     "metadata": {},
     "output_type": "execute_result"
    }
   ],
   "source": [
    "g0"
   ]
  },
  {
   "cell_type": "code",
   "execution_count": 5,
   "id": "e0e9f649",
   "metadata": {},
   "outputs": [
    {
     "data": {
      "text/plain": [
       "-0.0005820350791826732"
      ]
     },
     "execution_count": 5,
     "metadata": {},
     "output_type": "execute_result"
    }
   ],
   "source": [
    "g1"
   ]
  },
  {
   "cell_type": "code",
   "execution_count": 6,
   "id": "feee1e75",
   "metadata": {},
   "outputs": [
    {
     "name": "stdout",
     "output_type": "stream",
     "text": [
      "$\\chi$=-3.72687100654415e-05\n"
     ]
    }
   ],
   "source": [
    "print(r'$\\chi$='+str(chi_disp))"
   ]
  },
  {
   "cell_type": "code",
   "execution_count": 7,
   "id": "f9b41bd3-2a1a-44d6-a369-43ecd899ccf7",
   "metadata": {},
   "outputs": [],
   "source": [
    "x_list = [0,0.5,1,2,4,8]\n",
    "\n",
    "exp_a = [[],[]]\n",
    "exp_a_an = [[],[]]\n",
    "\n",
    "exp_a_disp = [[],[]]\n",
    "exp_a_disp_an = [[],[]]\n",
    "\n",
    "gamma = kappa*(g/(wq-w_d))**2 # Purcell\n",
    "\n",
    "gamma_disp = kappa*(g/(wq-w_d_disp))**2 # Purcell for dispersive readout\n",
    "\n",
    "for idx,qubit_state in enumerate(qubit_state_list):\n",
    "\n",
    "    res = functions.real_time_dynamics(H_sys,A_q,A_d,w_r,w_d,0,g,drive_op,n_states,kappa,qubit_state,tlist,N_fock)\n",
    "    exp_a[idx] = np.array(res)\n",
    "\n",
    "    z0 = functions.get_z0(N_rep,A_q,num_A,H_sys,drive_op,w_d,qubit_state,ground,excited,n_states)\n",
    "    \n",
    "    res_an = functions.analytical_time_dynamics(z0,w_r,w_d,A_d,0,g_parallel,g_sum,chi,chi_sum,kappa,gamma,tlist)\n",
    "    exp_a_an[idx] = res_an\n",
    "\n",
    "    if dispersive:\n",
    "        res_disp = functions.real_time_dynamics(H_sys,0,A_r,w_r_disp,w_d_disp,phi,g,drive_op,n_states,kappa,qubit_state,tlist,N_fock)\n",
    "        exp_a_disp[idx] = np.array(res_disp)\n",
    "\n",
    "        if qubit_state == ground:\n",
    "            z0_disp = -1\n",
    "        else:\n",
    "            z0_disp = 1\n",
    "        \n",
    "        res_disp_an = functions.analytical_time_dynamics(z0_disp,w_r_disp,w_d_disp,A_r,phi,0,0,chi_disp,chi_disp_sum,kappa,gamma_disp,tlist)\n",
    "        exp_a_disp_an[idx] = res_disp_an"
   ]
  },
  {
   "cell_type": "code",
   "execution_count": null,
   "id": "ba9f6277-ec92-4edd-890c-1d2b1393c2a2",
   "metadata": {},
   "outputs": [
    {
     "data": {
      "image/png": "[encoded data removed]",
      "text/plain": [
       "<Figure size 600x600 with 1 Axes>"
      ]
     },
     "metadata": {
      "needs_background": "light"
     },
     "output_type": "display_data"
    }
   ],
   "source": [
    "%matplotlib inline\n",
    "\n",
    "x_list = [0,0.5,1,2,4,8]\n",
    "\n",
    "norm = mpl.colors.Normalize(vmin=0, vmax=len(x_list))\n",
    "\n",
    "cmap_b = mpl.cm.ScalarMappable(norm=norm, cmap=mpl.colormaps['Blues'].reversed())\n",
    "cmap_b.set_array([])\n",
    "\n",
    "cmap_r = mpl.cm.ScalarMappable(norm=norm, cmap=mpl.colormaps['Reds'].reversed())\n",
    "cmap_r.set_array([])\n",
    "\n",
    "cmap = [cmap_b, cmap_r]\n",
    "\n",
    "fig, ax = plt.subplots(figsize=(6,6), dpi=100)\n",
    "\n",
    "color = ['tab:blue','tab:red']\n",
    "\n",
    "for q_idx,index in enumerate(qubit_state_list):\n",
    "    ax.plot(exp_a_an[index].real,exp_a_an[index].imag, c=color[index], zorder=0)\n",
    "    if dispersive:\n",
    "        ax.plot(exp_a_disp_an[index].real,exp_a_disp_an[index].imag, c=color[index], ls='--', zorder=0)\n",
    "\n",
    "    for ii,i in enumerate(x_list):\n",
    "        idx = np.where(np.abs(tlist*kappa-i)<0.01)[0][0]\n",
    "        ax.scatter(exp_a[index][idx].real, exp_a[index][idx].imag, color=cmap[q_idx].to_rgba(ii), s=55, zorder=1)\n",
    "        if dispersive:\n",
    "                ax.scatter(exp_a_disp[index][idx].real, exp_a_disp[index][idx].imag, color=cmap[q_idx].to_rgba(ii), s=55, zorder=1)\n",
    "\n",
    "ax.set_xmargin(0.1)\n",
    "ax.set_ymargin(0.1)\n",
    "\n",
    "ax.xaxis.set_tick_params(direction=\"in\", which='both')\n",
    "ax.yaxis.set_tick_params(direction=\"in\", which='both')\n",
    "\n",
    "#ax.text(0.54,0.3,r'$\\pmb{\\left\\vert + \\right\\rangle}$', ha='right', va='top', transform=ax.transAxes, color = 'tab:red', \\\n",
    "        #fontsize=16)\n",
    "#ax.text(0.54,0.8,r'$\\pmb{\\left\\vert - \\right\\rangle}$', ha='right', va='top', transform=ax.transAxes, color = 'tab:blue', \\\n",
    "        #fontsize=16)\n",
    "\n",
    "ax.tick_params(top=True, bottom=True, left=True, right=True, labelleft=True,\n",
    "                  labelbottom=True, labelright=False, labeltop=False, which='both')\n",
    "\n",
    "ax.set_xlabel(r'Re $\\langle a \\rangle$')\n",
    "ax.set_ylabel(r'Im $\\langle a \\rangle$')\n",
    "\n",
    "ax.set_aspect('equal')"
   ]
  },
  {
   "cell_type": "code",
   "execution_count": null,
   "id": "1f7b746f",
   "metadata": {},
   "outputs": [],
   "source": [
    "if save_file:\n",
    "    if compensation:\n",
    "        fname = fname = 'data/'+device+'/'+device+'_single_case_'+'A_q='+str(np.round(A_q/wq,3))+'_w_r='+str(np.round(w_r/wq,3))+'_w_r_disp='+str(np.round(w_r_disp/wq,3))+'_compensated'\n",
    "    else:\n",
    "        fname = fname = 'data/'+device+'/'+device+'_single_case_'+'A_q='+str(np.round(A_q/wq,3))+'_w_r='+str(np.round(w_r/wq,3))+'_w_r_disp='+str(np.round(w_r_disp/wq,3))\n",
    "\n",
    "    np.savez(fname, qubit_state_list=qubit_state_list, \\\n",
    "            exp_a=exp_a, exp_a_disp=exp_a_disp, exp_a_an=exp_a_an, exp_a_disp_an=exp_a_disp_an, tlist=tlist, A_q=A_q, g=g, kappa=kappa, w=w_r, wq=wq, g_parallel=g_parallel)"
   ]
  }
 ],
 "metadata": {
  "kernelspec": {
   "display_name": "Python 3 (ipykernel)",
   "language": "python",
   "name": "python3"
  },
  "language_info": {
   "codemirror_mode": {
    "name": "ipython",
    "version": 3
   },
   "file_extension": ".py",
   "mimetype": "text/x-python",
   "name": "python",
   "nbconvert_exporter": "python",
   "pygments_lexer": "ipython3",
   "version": "3.8.10"
  }
 },
 "nbformat": 4,
 "nbformat_minor": 5
}
