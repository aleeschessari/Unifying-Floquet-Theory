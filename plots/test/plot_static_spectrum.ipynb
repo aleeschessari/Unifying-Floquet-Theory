{
 "cells": [
  {
   "cell_type": "code",
   "execution_count": 13,
   "metadata": {},
   "outputs": [],
   "source": [
    "import matplotlib as mpl\n",
    "import matplotlib.pyplot as plt\n",
    "import numpy as np\n",
    "import importlib\n",
    "plt.rc('text', usetex=True)"
   ]
  },
  {
   "cell_type": "code",
   "execution_count": 14,
   "metadata": {},
   "outputs": [],
   "source": [
    "############## Select device ################\n",
    "\n",
    "device = 'transmon' # change here to change the device: charge_qubit, flopping_spin, flopping_charge, transmon, fluxonium\n",
    "\n",
    "#############################################"
   ]
  },
  {
   "cell_type": "code",
   "execution_count": 15,
   "metadata": {},
   "outputs": [
    {
     "ename": "FileNotFoundError",
     "evalue": "[Errno 2] No such file or directory: '../../data/transmon/static_spectrum_wq=0.58.npz'",
     "output_type": "error",
     "traceback": [
      "\u001b[0;31m---------------------------------------------------------------------------\u001b[0m",
      "\u001b[0;31mFileNotFoundError\u001b[0m                         Traceback (most recent call last)",
      "Cell \u001b[0;32mIn[15], line 11\u001b[0m\n\u001b[1;32m      7\u001b[0m         \u001b[38;5;28mglobals\u001b[39m()[varName] \u001b[38;5;241m=\u001b[39m Data[varName]\n\u001b[1;32m      9\u001b[0m fname \u001b[38;5;241m=\u001b[39m \u001b[38;5;124m'\u001b[39m\u001b[38;5;124m../../data/\u001b[39m\u001b[38;5;124m'\u001b[39m\u001b[38;5;241m+\u001b[39mdevice\u001b[38;5;241m+\u001b[39m\u001b[38;5;124m'\u001b[39m\u001b[38;5;124m/static_spectrum_wq=\u001b[39m\u001b[38;5;124m'\u001b[39m\u001b[38;5;241m+\u001b[39m\u001b[38;5;28mstr\u001b[39m(np\u001b[38;5;241m.\u001b[39mround(wq,\u001b[38;5;241m2\u001b[39m))\n\u001b[0;32m---> 11\u001b[0m \u001b[43mimport_npz\u001b[49m\u001b[43m(\u001b[49m\u001b[43mfname\u001b[49m\u001b[38;5;241;43m+\u001b[39;49m\u001b[38;5;124;43m'\u001b[39;49m\u001b[38;5;124;43m.npz\u001b[39;49m\u001b[38;5;124;43m'\u001b[39;49m\u001b[43m)\u001b[49m\n",
      "Cell \u001b[0;32mIn[15], line 5\u001b[0m, in \u001b[0;36mimport_npz\u001b[0;34m(npz_file)\u001b[0m\n\u001b[1;32m      4\u001b[0m \u001b[38;5;28;01mdef\u001b[39;00m \u001b[38;5;21mimport_npz\u001b[39m(npz_file):\n\u001b[0;32m----> 5\u001b[0m     Data \u001b[38;5;241m=\u001b[39m \u001b[43mnp\u001b[49m\u001b[38;5;241;43m.\u001b[39;49m\u001b[43mload\u001b[49m\u001b[43m(\u001b[49m\u001b[43mnpz_file\u001b[49m\u001b[43m,\u001b[49m\u001b[43m \u001b[49m\u001b[43mallow_pickle\u001b[49m\u001b[38;5;241;43m=\u001b[39;49m\u001b[38;5;28;43;01mTrue\u001b[39;49;00m\u001b[43m)\u001b[49m\n\u001b[1;32m      6\u001b[0m     \u001b[38;5;28;01mfor\u001b[39;00m varName \u001b[38;5;129;01min\u001b[39;00m Data:\n\u001b[1;32m      7\u001b[0m         \u001b[38;5;28mglobals\u001b[39m()[varName] \u001b[38;5;241m=\u001b[39m Data[varName]\n",
      "File \u001b[0;32m/nobackup/my_python2/lib/python3.9/site-packages/numpy/lib/npyio.py:405\u001b[0m, in \u001b[0;36mload\u001b[0;34m(file, mmap_mode, allow_pickle, fix_imports, encoding, max_header_size)\u001b[0m\n\u001b[1;32m    403\u001b[0m     own_fid \u001b[38;5;241m=\u001b[39m \u001b[38;5;28;01mFalse\u001b[39;00m\n\u001b[1;32m    404\u001b[0m \u001b[38;5;28;01melse\u001b[39;00m:\n\u001b[0;32m--> 405\u001b[0m     fid \u001b[38;5;241m=\u001b[39m stack\u001b[38;5;241m.\u001b[39menter_context(\u001b[38;5;28;43mopen\u001b[39;49m\u001b[43m(\u001b[49m\u001b[43mos_fspath\u001b[49m\u001b[43m(\u001b[49m\u001b[43mfile\u001b[49m\u001b[43m)\u001b[49m\u001b[43m,\u001b[49m\u001b[43m \u001b[49m\u001b[38;5;124;43m\"\u001b[39;49m\u001b[38;5;124;43mrb\u001b[39;49m\u001b[38;5;124;43m\"\u001b[39;49m\u001b[43m)\u001b[49m)\n\u001b[1;32m    406\u001b[0m     own_fid \u001b[38;5;241m=\u001b[39m \u001b[38;5;28;01mTrue\u001b[39;00m\n\u001b[1;32m    408\u001b[0m \u001b[38;5;66;03m# Code to distinguish from NumPy binary files and pickles.\u001b[39;00m\n",
      "\u001b[0;31mFileNotFoundError\u001b[0m: [Errno 2] No such file or directory: '../../data/transmon/static_spectrum_wq=0.58.npz'"
     ]
    }
   ],
   "source": [
    "data = np.load('../../data/params/'+device+'.npz', allow_pickle=True)\n",
    "H_sys, drive_op, wq, g, kappa, num_A, dim = data['H_sys'], data['drive_op'], data['wq'], data['g'], data['kappa'], data['num_A'], data['dim']\n",
    "\n",
    "def import_npz(npz_file):\n",
    "    Data = np.load(npz_file, allow_pickle=True)\n",
    "    for varName in Data:\n",
    "        globals()[varName] = Data[varName]\n",
    "\n",
    "fname = '../../data/'+device+'/static_spectrum_wq='+str(np.round(wq,2))\n",
    "\n",
    "import_npz(fname+'.npz')"
   ]
  },
  {
   "cell_type": "code",
   "execution_count": null,
   "metadata": {},
   "outputs": [
    {
     "data": {
      "text/plain": [
       "(-1.0, 1.0)"
      ]
     },
     "execution_count": 12,
     "metadata": {},
     "output_type": "execute_result"
    },
    {
     "data": {
      "image/png": "[encoded data removed]",
      "text/plain": [
       "<Figure size 400x500 with 1 Axes>"
      ]
     },
     "metadata": {},
     "output_type": "display_data"
    }
   ],
   "source": [
    "%matplotlib inline\n",
    "\n",
    "fig, ax = plt.subplots(figsize=(4,5), dpi=100)\n",
    "\n",
    "for n in range(dim):\n",
    "    ax.plot(e0_list, evals[:,n])\n",
    "\n",
    "ax.xaxis.set_tick_params(direction=\"in\", which='both')\n",
    "ax.yaxis.set_tick_params(direction=\"in\", which='both')\n",
    "ax.tick_params(top=True, bottom=True, left=True, right=True, labelleft=True,\n",
    "                  labelbottom=True, labelright=False, labeltop=False, which='both')\n",
    "\n",
    "ax.set_xlabel(r'$\\varepsilon_0/\\omega_{\\rm q}$')\n",
    "ax.set_ylabel(r'$\\varepsilon/\\omega_{\\rm q}$', labelpad=-2)\n",
    "\n",
    "ax.set_ylim([-1, 1])"
   ]
  },
  {
   "cell_type": "code",
   "execution_count": null,
   "metadata": {},
   "outputs": [],
   "source": []
  }
 ],
 "metadata": {
  "kernelspec": {
   "display_name": "my_python2",
   "language": "python",
   "name": "python3"
  },
  "language_info": {
   "codemirror_mode": {
    "name": "ipython",
    "version": 3
   },
   "file_extension": ".py",
   "mimetype": "text/x-python",
   "name": "python",
   "nbconvert_exporter": "python",
   "pygments_lexer": "ipython3",
   "version": "3.9.2"
  },
  "orig_nbformat": 4,
  "vscode": {
   "interpreter": {
    "hash": "14f67b4aa8211a12dde4039bef8972521339c3f0c5160abfd80e1c35e3940a6e"
   }
  }
 },
 "nbformat": 4,
 "nbformat_minor": 2
}
