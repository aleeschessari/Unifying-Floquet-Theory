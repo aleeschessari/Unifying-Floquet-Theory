{
 "cells": [
  {
   "cell_type": "code",
   "execution_count": 1,
   "metadata": {},
   "outputs": [],
   "source": [
    "import matplotlib as mpl\n",
    "import matplotlib.pyplot as plt\n",
    "import numpy as np\n",
    "import importlib\n",
    "plt.rc('text', usetex=True)\n",
    "plt.rc('text.latex', preamble=r'\\usepackage{amsmath}')\n",
    "\n",
    "from os import listdir\n",
    "from os.path import isfile, join\n",
    "import os"
   ]
  },
  {
   "cell_type": "code",
   "execution_count": 2,
   "metadata": {},
   "outputs": [],
   "source": [
    "############## Select device ################\n",
    "\n",
    "device = 'fluxonium' # change here to change the device: charge_qubit, flopping_spin, flopping_charge, transmon, fluxonium\n",
    "\n",
    "#############################################\n",
    "\n",
    "data = np.load('../../data/params/'+device+'.npz', allow_pickle=True)\n",
    "wq, g, kappa, dim = data['wq'], data['g'], data['kappa'], data['dim']"
   ]
  },
  {
   "cell_type": "code",
   "execution_count": 3,
   "metadata": {},
   "outputs": [
    {
     "name": "stdout",
     "output_type": "stream",
     "text": [
      "SNR_N_fock=10_N_rep_import=10_n_states=10_dim=110_num_w=101_final_t=0.5_compensation=False.npz\n",
      "SNR_N_fock=8_N_rep_import=8_n_states=8_dim=110_num_w=101_final_t=0.5_compensation=False.npz\n"
     ]
    }
   ],
   "source": [
    "###### List available file to be plotted ########\n",
    "\n",
    "path = '../../data/'+device\n",
    "\n",
    "for file in os.listdir(path):\n",
    "    if file.startswith(\"SNR_N_fock\"):\n",
    "        if file.endswith(\".npz\"):\n",
    "            print(file)\n",
    "\n",
    "#################################################"
   ]
  },
  {
   "cell_type": "code",
   "execution_count": 4,
   "metadata": {},
   "outputs": [],
   "source": [
    "############# Select one set of parameters ################\n",
    "\n",
    "dim = 110\n",
    "num_w = 101\n",
    "compensation = False\n",
    "\n",
    "n_states_import = 8\n",
    "N_rep_import = 8\n",
    "\n",
    "N_fock = 8\n",
    "n_states = 8\n",
    "\n",
    "final_t = 0.5\n",
    "\n",
    "###########################################################"
   ]
  },
  {
   "cell_type": "code",
   "execution_count": 5,
   "metadata": {},
   "outputs": [],
   "source": [
    "def import_npz(npz_file):\n",
    "    Data = np.load(npz_file, allow_pickle=True)\n",
    "    for varName in Data:\n",
    "        globals()[varName] = Data[varName]\n",
    "\n",
    "fname = path+'/SNR_N_fock='+str(N_fock)+'_N_rep_import='+str(N_rep_import)+'_n_states='+str(n_states)\\\n",
    "            +'_dim='+str(dim)+'_num_w='+str(num_w)+'_final_t='+str(final_t)+'_compensation='+str(compensation)\n",
    "\n",
    "import_npz(fname+'.npz')"
   ]
  },
  {
   "cell_type": "code",
   "execution_count": 6,
   "metadata": {},
   "outputs": [
    {
     "data": {
      "text/plain": [
       "(0.0, 0.01)"
      ]
     },
     "execution_count": 6,
     "metadata": {},
     "output_type": "execute_result"
    },
    {
     "data": {
      "image/png": "[encoded data removed]",
      "text/plain": [
       "<Figure size 700x400 with 1 Axes>"
      ]
     },
     "metadata": {},
     "output_type": "display_data"
    }
   ],
   "source": [
    "%matplotlib inline\n",
    "\n",
    "fig, ax = plt.subplots(figsize=(7,4), dpi=100)\n",
    "\n",
    "import matplotlib.colors as mcolors\n",
    "cmap = mpl.colormaps[\"tab10\"]  # type: matplotlib.colors.ListedColormap\n",
    "colors = cmap.colors  # type: list\n",
    "\n",
    "for idx,A in enumerate(Alist):\n",
    "    ax.plot(wlist, np.real(res_an[idx,:]), label=str(np.round(A,2)), color=colors[idx], lw=2)   \n",
    "    ax.plot(wlist, np.real(res_num_disp[idx,:]), color=colors[idx], lw=2, ls='--')    \n",
    "    ax.scatter(wlist, np.real(res_num[idx,:]), marker='o', color=colors[idx], facecolors='none', s=40)    \n",
    "\n",
    "ax.legend(loc='upper right')\n",
    "\n",
    "ax.xaxis.set_tick_params(direction=\"in\", which='both')\n",
    "ax.yaxis.set_tick_params(direction=\"in\", which='both')\n",
    "ax.set_xlabel(r'$\\omega_{\\text{r}}$')\n",
    "\n",
    "ax.set_ylabel(r'$\\text{SNR}($'+str(final_t)+r'$/\\kappa)$')\n",
    "ax.tick_params(top=True, bottom=True, left=True, right=True, labelleft=True,\n",
    "                  labelbottom=True, labelright=False, labeltop=False, which='both')\n",
    "\n",
    "h, l = ax.get_legend_handles_labels() # Extracting handles and labels\n",
    "ph = [plt.plot([],marker=\"\", ls=\"\")[0]] # Canvas\n",
    "handles = ph + h\n",
    "labels = [r'$A_{\\text{q}}:$'] + l  # Merging labels\n",
    "leg = ax.legend(handles, labels, fontsize=\"14\", ncol=4, markerfirst=False)\n",
    "\n",
    "ax.set_ylim([0,0.01])"
   ]
  }
 ],
 "metadata": {
  "kernelspec": {
   "display_name": "my_python2",
   "language": "python",
   "name": "python3"
  },
  "language_info": {
   "codemirror_mode": {
    "name": "ipython",
    "version": 3
   },
   "file_extension": ".py",
   "mimetype": "text/x-python",
   "name": "python",
   "nbconvert_exporter": "python",
   "pygments_lexer": "ipython3",
   "version": "3.9.2"
  },
  "orig_nbformat": 4,
  "vscode": {
   "interpreter": {
    "hash": "14f67b4aa8211a12dde4039bef8972521339c3f0c5160abfd80e1c35e3940a6e"
   }
  }
 },
 "nbformat": 4,
 "nbformat_minor": 2
}
