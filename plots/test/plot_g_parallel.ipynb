{
 "cells": [
  {
   "cell_type": "code",
   "execution_count": 1,
   "metadata": {},
   "outputs": [],
   "source": [
    "import matplotlib as mpl\n",
    "import matplotlib.pyplot as plt\n",
    "import numpy as np\n",
    "import importlib\n",
    "from os import listdir\n",
    "from os.path import isfile, join\n",
    "\n",
    "plt.rcParams['text.usetex'] = True\n",
    "params = {\n",
    "    \"backend\": \"ps\",\n",
    "    \"axes.labelsize\": 20,\n",
    "    \"font.size\": 20,\n",
    "    \"legend.fontsize\": 16,\n",
    "    \"xtick.labelsize\": 20,\n",
    "    \"ytick.labelsize\": 20,\n",
    "    \"text.usetex\": True,\n",
    "    \"font.family\": \"serif\",\n",
    "    \"font.serif\": \"Computer Modern Roman\",\n",
    "    \"legend.frameon\": True,\n",
    "    \"savefig.dpi\": 100,\n",
    "    \"axes.linewidth\": 1.5,\n",
    "    'xtick.major.size' : 10,\n",
    "    'xtick.major.width': 1,\n",
    "    'xtick.minor.size': 7,\n",
    "    'xtick.minor.width': 1,\n",
    "    'ytick.major.size' : 10,\n",
    "    'ytick.major.width': 1,\n",
    "    'ytick.minor.size': 7,\n",
    "    'ytick.minor.width': 1,\n",
    "    'axes.xmargin' : 0,\n",
    "    'axes.ymargin' : 0,\n",
    "}\n",
    "plt.rc('text', usetex=True)\n",
    "plt.rc('text.latex', preamble=r'\\usepackage{amsmath}')"
   ]
  },
  {
   "cell_type": "code",
   "execution_count": 2,
   "metadata": {},
   "outputs": [],
   "source": [
    "############## Select device ################\n",
    "\n",
    "device = 'fluxonium' # change here to change the device: charge_qubit, flopping_spin, flopping_charge, transmon, fluxonium\n",
    "\n",
    "#############################################\n",
    "\n",
    "data = np.load('../../data/params/'+device+'.npz', allow_pickle=True)\n",
    "wq, g, kappa, dim = data['wq'], data['g'], data['kappa'], data['dim']"
   ]
  },
  {
   "cell_type": "code",
   "execution_count": 3,
   "metadata": {},
   "outputs": [
    {
     "name": "stdout",
     "output_type": "stream",
     "text": [
      "N_rep=25_n_states=25_dim=110_num_w=101.npz\n",
      "N_rep=15_n_states=10_dim=110_num_w=101.npz\n"
     ]
    }
   ],
   "source": [
    "###### List available file to be plotted ########\n",
    "\n",
    "path = '../../data/'+device+'/g_parallel/'\n",
    "\n",
    "for file in os.listdir(path):\n",
    "    if file.endswith(\".npz\"):\n",
    "        print(file)\n",
    "\n",
    "#################################################"
   ]
  },
  {
   "cell_type": "code",
   "execution_count": 4,
   "metadata": {},
   "outputs": [],
   "source": [
    "############# Select one set of parameters ################\n",
    "\n",
    "n_states_list = [10]\n",
    "N_rep_list = [15]\n",
    "\n",
    "dim = 110\n",
    "num_w = 101\n",
    "\n",
    "###########################################################"
   ]
  },
  {
   "cell_type": "code",
   "execution_count": 5,
   "metadata": {},
   "outputs": [],
   "source": [
    "def import_npz(npz_file):\n",
    "    Data = np.load(npz_file, allow_pickle=True)\n",
    "    for varName in Data:\n",
    "        globals()[varName] = Data[varName]"
   ]
  },
  {
   "cell_type": "code",
   "execution_count": 9,
   "metadata": {},
   "outputs": [
    {
     "name": "stdout",
     "output_type": "stream",
     "text": [
      "10\n"
     ]
    },
    {
     "name": "stderr",
     "output_type": "stream",
     "text": [
      "/nobackup/my_python2/lib/python3.9/site-packages/matplotlib/cbook.py:1762: ComplexWarning: Casting complex values to real discards the imaginary part\n",
      "  return math.isfinite(val)\n",
      "/nobackup/my_python2/lib/python3.9/site-packages/matplotlib/cbook.py:1398: ComplexWarning: Casting complex values to real discards the imaginary part\n",
      "  return np.asarray(x, float)\n",
      "/tmp/ipykernel_4699/1188728258.py:27: UserWarning: No artists with labels found to put in legend.  Note that artists whose label start with an underscore are ignored when legend() is called with no argument.\n",
      "  ax.legend()\n"
     ]
    },
    {
     "data": {
      "image/png": "[encoded data removed]",
      "text/plain": [
       "<Figure size 400x400 with 1 Axes>"
      ]
     },
     "metadata": {},
     "output_type": "display_data"
    }
   ],
   "source": [
    "%matplotlib inline\n",
    "\n",
    "import matplotlib.colors as mcolors\n",
    "cmap = mpl.colormaps[\"tab10\"]  # type: matplotlib.colors.ListedColormap\n",
    "colors = cmap.colors  # type: list\n",
    "\n",
    "fig, ax = plt.subplots(figsize=(4,4), dpi=100)\n",
    "\n",
    "for i, n_states in enumerate(n_states_list):\n",
    "    for j, N_rep in enumerate(N_rep_list):\n",
    "        fname = '../../data/'+device+'/g_parallel/N_rep='+str(N_rep)+'_n_states='+str(n_states)\\\n",
    "                +'_dim='+str(dim)+'_num_w='+str(num_w)\n",
    "\n",
    "        import_npz(fname+'.npz')\n",
    "\n",
    "        for idx, A_q in enumerate(Alist):\n",
    "            #if g_parallel_0.any():\n",
    "                #ax.plot(wlist/wq,np.abs((g_parallel[:,idx]-g_parallel_0[:,idx])/g_parallel[:,idx]), color=colors[idx], label=r'$g_\\parallel$')\n",
    "            if idx == 0:\n",
    "                ax.plot(wlist/wq, g_parallel[:,idx]/g, color=cmap.colors[j], lw=idx+1, alpha=(i+1)/(len(n_states_list)))\n",
    "\n",
    "ax.set_xlabel(r'$\\omega_r/\\omega_q$')\n",
    "\n",
    "ax.set_ylabel(r'$g_\\parallel/g$')\n",
    "\n",
    "ax.legend()\n",
    "\n",
    "ax.set_ylim(-0.5, 0.5)\n",
    "plt.show()"
   ]
  },
  {
   "cell_type": "code",
   "execution_count": null,
   "metadata": {},
   "outputs": [],
   "source": []
  }
 ],
 "metadata": {
  "kernelspec": {
   "display_name": "my_python2",
   "language": "python",
   "name": "python3"
  },
  "language_info": {
   "codemirror_mode": {
    "name": "ipython",
    "version": 3
   },
   "file_extension": ".py",
   "mimetype": "text/x-python",
   "name": "python",
   "nbconvert_exporter": "python",
   "pygments_lexer": "ipython3",
   "version": "3.9.2"
  },
  "orig_nbformat": 4,
  "vscode": {
   "interpreter": {
    "hash": "14f67b4aa8211a12dde4039bef8972521339c3f0c5160abfd80e1c35e3940a6e"
   }
  }
 },
 "nbformat": 4,
 "nbformat_minor": 2
}
