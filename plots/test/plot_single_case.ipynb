{
 "cells": [
  {
   "cell_type": "code",
   "execution_count": 155,
   "metadata": {},
   "outputs": [],
   "source": [
    "import matplotlib as mpl\n",
    "import matplotlib.pyplot as plt\n",
    "import numpy as np\n",
    "import importlib\n",
    "plt.rc('text', usetex=True)\n",
    "\n",
    "from os import listdir\n",
    "from os.path import isfile, join\n",
    "import os"
   ]
  },
  {
   "cell_type": "code",
   "execution_count": 156,
   "metadata": {},
   "outputs": [],
   "source": [
    "############## Select device ################\n",
    "\n",
    "device = 'fluxonium' # change here to change the device: charge_qubit, flopping_spin, flopping_charge, transmon, fluxonium\n",
    "\n",
    "#############################################\n",
    "\n",
    "data = np.load('../../data/params/'+device+'.npz', allow_pickle=True)\n",
    "wq, g, kappa, dim, num_A = data['wq'], data['g'], data['kappa'], data['dim'], data['num_A']"
   ]
  },
  {
   "cell_type": "code",
   "execution_count": 157,
   "metadata": {},
   "outputs": [
    {
     "name": "stdout",
     "output_type": "stream",
     "text": [
      "A_q=0.6_w_d=45.5_w_d_disp=45.5_N_fock=8_N_rep=5_n_states=8_dim=110_compensation=True_dispersive=False.npz\n",
      "A_q=0.8_w_d=45.5_w_d_disp=45.5_N_fock=8_N_rep=5_n_states=8_dim=110_compensation=True_dispersive=False.npz\n",
      "A_q=1.2_w_d=44.0_w_d_disp=44.0_N_fock=8_N_rep=5_n_states=8_dim=110_compensation=True_dispersive=False.npz\n",
      "A_q=1.6_w_d=47.0_w_d_disp=47.0_N_fock=8_N_rep=5_n_states=8_dim=110_compensation=True_dispersive=False.npz\n",
      "A_q=0.8_w_d=46.0_w_d_disp=46.0_N_fock=8_N_rep=5_n_states=8_dim=110_compensation=True_dispersive=False.npz\n",
      "A_q=1.6_w_d=44.0_w_d_disp=44.0_N_fock=8_N_rep=5_n_states=8_dim=110_compensation=True_dispersive=False.npz\n"
     ]
    }
   ],
   "source": [
    "###### List available file to be plotted ########\n",
    "\n",
    "path = '../../data/'+device+'/single_case/'\n",
    "\n",
    "for file in os.listdir(path):\n",
    "    if file.endswith(\".npz\"):\n",
    "        print(file)\n",
    "\n",
    "#################################################"
   ]
  },
  {
   "cell_type": "code",
   "execution_count": 158,
   "metadata": {},
   "outputs": [],
   "source": [
    "############# Select one set of parameters ################\n",
    "\n",
    "A_q = 0.8*wq\n",
    "w_d = 46*wq\n",
    "w_d_disp = 46*wq\n",
    "n_states = 8\n",
    "dim = 110\n",
    "N_rep = 5\n",
    "N_fock = 8\n",
    "compensation = True\n",
    "dispersive = False\n",
    "\n",
    "###########################################################"
   ]
  },
  {
   "cell_type": "code",
   "execution_count": 159,
   "metadata": {},
   "outputs": [
    {
     "name": "stdout",
     "output_type": "stream",
     "text": [
      "derivatives of the spectrum computed in A_q/w_q=0.8020253164556963\n"
     ]
    }
   ],
   "source": [
    "def import_npz(npz_file):\n",
    "    Data = np.load(npz_file, allow_pickle=True)\n",
    "    for varName in Data:\n",
    "        globals()[varName] = Data[varName]\n",
    "\n",
    "fname = path+'A_q='+str(np.round(A_q/wq,3))+'_w_d='+str(np.round(w_d/wq,3))\\\n",
    "    +'_w_d_disp='+str(np.round(w_d_disp/wq,3))+'_N_fock='+str(N_fock)+'_N_rep='+str(N_rep)+'_n_states='+str(n_states)\\\n",
    "        +'_dim='+str(dim)+'_compensation='+str(compensation)+'_dispersive='+str(dispersive)\n",
    "\n",
    "import_npz(fname+'.npz')\n",
    "\n",
    "index_A = np.abs(A_list[0:(num_A-2)]-A_q).argmin()\n",
    "print('derivatives of the spectrum computed in A_q/w_q='+str(A_list[index_A]/wq))"
   ]
  },
  {
   "cell_type": "code",
   "execution_count": 160,
   "metadata": {},
   "outputs": [
    {
     "data": {
      "text/plain": [
       "(-2.0, 2.0)"
      ]
     },
     "execution_count": 160,
     "metadata": {},
     "output_type": "execute_result"
    },
    {
     "data": {
      "image/png": "[encoded data removed]",
      "text/plain": [
       "<Figure size 600x600 with 1 Axes>"
      ]
     },
     "metadata": {},
     "output_type": "display_data"
    }
   ],
   "source": [
    "%matplotlib inline\n",
    "\n",
    "x_list = [0,0.5,1,2,4,8]\n",
    "\n",
    "norm = mpl.colors.Normalize(vmin=0, vmax=len(x_list))\n",
    "\n",
    "cmap_b = mpl.cm.ScalarMappable(norm=norm, cmap=mpl.colormaps['Blues'].reversed())\n",
    "cmap_b.set_array([])\n",
    "\n",
    "cmap_r = mpl.cm.ScalarMappable(norm=norm, cmap=mpl.colormaps['Reds'].reversed())\n",
    "cmap_r.set_array([])\n",
    "\n",
    "cmap = [cmap_b, cmap_r]\n",
    "\n",
    "fig, ax = plt.subplots(figsize=(6,6), dpi=100)\n",
    "\n",
    "color = ['tab:blue','tab:red']\n",
    "\n",
    "for q_idx,index in enumerate(qubit_state_list):\n",
    "    ax.plot(exp_a_an[index].real,exp_a_an[index].imag, c=color[index], zorder=0)\n",
    "    if dispersive:\n",
    "        ax.plot(exp_a_disp_an[index].real,exp_a_disp_an[index].imag, c=color[index], ls='--', zorder=0)\n",
    "\n",
    "    for ii,i in enumerate(x_list):\n",
    "        idx = np.where(np.abs(tlist*kappa-i)<0.01)[0][0]\n",
    "        ax.scatter(exp_a[index][idx].real, exp_a[index][idx].imag, color=cmap[q_idx].to_rgba(ii), s=55, zorder=1)\n",
    "        if dispersive:\n",
    "                ax.scatter(exp_a_disp[index][idx].real, exp_a_disp[index][idx].imag, color=cmap[q_idx].to_rgba(ii), s=55, zorder=1)\n",
    "\n",
    "ax.set_xmargin(1)\n",
    "ax.set_ymargin(0.2)\n",
    "\n",
    "ax.xaxis.set_tick_params(direction=\"in\", which='both')\n",
    "ax.yaxis.set_tick_params(direction=\"in\", which='both')\n",
    "\n",
    "#ax.text(0.54,0.3,r'$\\pmb{\\left\\vert + \\right\\rangle}$', ha='right', va='top', transform=ax.transAxes, color = 'tab:red', \\\n",
    "        #fontsize=16)\n",
    "#ax.text(0.54,0.8,r'$\\pmb{\\left\\vert - \\right\\rangle}$', ha='right', va='top', transform=ax.transAxes, color = 'tab:blue', \\\n",
    "        #fontsize=16)\n",
    "\n",
    "ax.tick_params(top=True, bottom=True, left=True, right=True, labelleft=True,\n",
    "                  labelbottom=True, labelright=False, labeltop=False, which='both')\n",
    "\n",
    "ax.set_xlabel(r'Re $\\langle a \\rangle$')\n",
    "ax.set_ylabel(r'Im $\\langle a \\rangle$')\n",
    "\n",
    "ax.set_aspect('equal')\n",
    "\n",
    "ax.set_xlim(-1,0.5)\n",
    "ax.set_ylim(-2,2)"
   ]
  },
  {
   "cell_type": "code",
   "execution_count": 161,
   "metadata": {},
   "outputs": [
    {
     "data": {
      "text/plain": [
       "(-0.01, 0.1)"
      ]
     },
     "execution_count": 161,
     "metadata": {},
     "output_type": "execute_result"
    },
    {
     "data": {
      "image/png": "[encoded data removed]",
      "text/plain": [
       "<Figure size 640x480 with 1 Axes>"
      ]
     },
     "metadata": {},
     "output_type": "display_data"
    }
   ],
   "source": [
    "%matplotlib inline\n",
    "fig, ax = plt.subplots()\n",
    "\n",
    "fig.suptitle('Simulation with N_fock='+str(N_fock))\n",
    "\n",
    "ax.plot(tlist*kappa, exp_fock[0,0])\n",
    "ax.plot(tlist*kappa, exp_fock[0,1])\n",
    "\n",
    "ax.set_xlabel(r'$\\kappa\\tau$')\n",
    "ax.set_ylabel(r'$\\langle n=$'+str(N_fock-1)+r'$\\rangle$')\n",
    "\n",
    "ax.set_ylim([-0.01,0.1])"
   ]
  },
  {
   "cell_type": "code",
   "execution_count": 162,
   "metadata": {},
   "outputs": [
    {
     "data": {
      "text/plain": [
       "(-0.01, 0.1)"
      ]
     },
     "execution_count": 162,
     "metadata": {},
     "output_type": "execute_result"
    },
    {
     "data": {
      "image/png": "[encoded data removed]",
      "text/plain": [
       "<Figure size 640x480 with 1 Axes>"
      ]
     },
     "metadata": {},
     "output_type": "display_data"
    }
   ],
   "source": [
    "%matplotlib inline\n",
    "fig, ax = plt.subplots()\n",
    "\n",
    "fig.suptitle('Simulation with n_states='+str(n_states))\n",
    "\n",
    "ax.plot(tlist*kappa, exp_proj[0,0])\n",
    "ax.plot(tlist*kappa, exp_proj[0,1])\n",
    "\n",
    "ax.set_xlabel(r'$\\kappa\\tau$')\n",
    "ax.set_ylabel(r'$\\langle \\tilde{P}(j>=$'+str(n_states-4)+r'$)\\rangle$')\n",
    "\n",
    "ax.set_ylim([-0.01,0.1])"
   ]
  }
 ],
 "metadata": {
  "kernelspec": {
   "display_name": "my_python2",
   "language": "python",
   "name": "python3"
  },
  "language_info": {
   "codemirror_mode": {
    "name": "ipython",
    "version": 3
   },
   "file_extension": ".py",
   "mimetype": "text/x-python",
   "name": "python",
   "nbconvert_exporter": "python",
   "pygments_lexer": "ipython3",
   "version": "3.9.2"
  },
  "orig_nbformat": 4,
  "vscode": {
   "interpreter": {
    "hash": "14f67b4aa8211a12dde4039bef8972521339c3f0c5160abfd80e1c35e3940a6e"
   }
  }
 },
 "nbformat": 4,
 "nbformat_minor": 2
}
