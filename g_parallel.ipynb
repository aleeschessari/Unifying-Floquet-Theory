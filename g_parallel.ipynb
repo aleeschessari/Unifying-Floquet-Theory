{
 "cells": [
  {
   "cell_type": "code",
   "execution_count": 13,
   "metadata": {},
   "outputs": [],
   "source": [
    "import function.functions as functions\n",
    "\n",
    "from qutip import *\n",
    "import numpy as np\n",
    "import matplotlib.pyplot as plt\n",
    "import matplotlib as mpl\n",
    "import importlib\n",
    "import sys\n",
    "\n",
    "plt.rcParams['text.usetex'] = True\n",
    "params = {\n",
    "    \"backend\": \"ps\",\n",
    "    \"axes.labelsize\": 22,\n",
    "    \"font.size\": 22,\n",
    "    \"legend.fontsize\": 10,\n",
    "    \"xtick.labelsize\": 20,\n",
    "    \"ytick.labelsize\": 20,\n",
    "    \"text.usetex\": True,\n",
    "    \"font.family\": \"serif\",\n",
    "    \"font.serif\": \"Computer Modern Roman\",\n",
    "    \"legend.frameon\": True,\n",
    "    \"savefig.dpi\": 100,\n",
    "    \"axes.linewidth\": 1.5,\n",
    "    'xtick.major.size' : 10,\n",
    "    'xtick.major.width': 1,\n",
    "    'xtick.minor.size': 7,\n",
    "    'xtick.minor.width': 1,\n",
    "    'ytick.major.size' : 10,\n",
    "    'ytick.major.width': 1,\n",
    "    'ytick.minor.size': 7,\n",
    "    'ytick.minor.width': 1,\n",
    "    'axes.xmargin' : 0,\n",
    "    'axes.ymargin' : 0,\n",
    "}\n",
    "plt.rcParams.update(params)\n",
    "plt.rc('text.latex', preamble=r'\\usepackage{amsmath}')\n",
    "plt.rc('text', usetex=True)"
   ]
  },
  {
   "cell_type": "code",
   "execution_count": 14,
   "metadata": {},
   "outputs": [],
   "source": [
    "# Set device and parameters in this part\n",
    "\n",
    "############################# Set parameters ##############################\n",
    "device = 'fluxonium' # change here to change the device: charge_qubit, flopping_spin, flopping_charge, transmon, fluxonium\n",
    "\n",
    "device_module = importlib.import_module('parameters.' + device)\n",
    "globals().update(vars(device_module)) # import parameters of the device\n",
    "\n",
    "########################### Parameters of the paper ###########################\n",
    "if device == 'charge_qubit':\n",
    "    wlist = np.linspace(0,2,101,endpoint=True)\n",
    "    Alist = np.array([0.05*wq,0.5*wq,2.45*wq])\n",
    "    \n",
    "    ground, excited = 0, 1\n",
    "\n",
    "elif device == 'flopping_spin':\n",
    "    wlist = np.linspace(0,3*wq,151,endpoint=True)\n",
    "    Alist = np.array([0.2*wq, 0.3*wq])\n",
    "    \n",
    "    ground, excited = 0, 1\n",
    "\n",
    "elif device == 'transmon':\n",
    "    wlist = np.linspace(0,2*wq,101,endpoint=True)\n",
    "    Alist = np.array([0.052*wq, 0.09*wq])\n",
    "\n",
    "    ground, excited = 0, 1\n",
    "\n",
    "elif device == 'fluxonium':\n",
    "    wlist = np.linspace(0,3*wq,101,endpoint=True)\n",
    "    Alist = np.array([0.6*wq, 1.2*wq])\n",
    "\n",
    "    ground, excited = 0, 1\n",
    "\n",
    "else:\n",
    "    print('select a valid device')\n",
    "    sys.exit()\n",
    "################################################################################\n",
    "\n",
    "########################### Custom parameters #################################\n",
    "# test other parameters A_q, ground, excited, w_r, w_r_disp, compensation\n",
    "wlist = np.linspace(0,2*wq,11,endpoint=True)\n",
    "\n",
    "save_file = True # test mode or save data to generate the data of the figure of the paper\n",
    "################################################################################"
   ]
  },
  {
   "cell_type": "code",
   "execution_count": 15,
   "metadata": {},
   "outputs": [
    {
     "name": "stdout",
     "output_type": "stream",
     "text": [
      "derivatives of the spectrum computed in A_q/w_q=0.5923076923076923\n",
      "derivatives of the spectrum computed in A_q/w_q=1.1846153846153846\n"
     ]
    }
   ],
   "source": [
    "g_parallel = np.zeros((len(wlist), len(Alist)), dtype=np.complex128)\n",
    "\n",
    "for i,A_q in enumerate(Alist):\n",
    "    A_list, dd_real = functions.get_derivatives(N_rep,A_q,H_sys,drive_op,wlist,n_states,num_A)[0], functions.get_derivatives(N_rep,A_q,H_sys,drive_op,wlist,n_states,num_A)[1]\n",
    "\n",
    "    index_A = np.abs(A_list-A_q).argmin()\n",
    "\n",
    "    print('derivatives of the spectrum computed in A_q/w_q='+str(A_list[index_A]/wq))\n",
    "    \n",
    "    g_parallel[:,i] = 1/2*g*(dd_real[:,index_A,1]-dd_real[:,index_A,0])"
   ]
  },
  {
   "cell_type": "code",
   "execution_count": 16,
   "metadata": {},
   "outputs": [],
   "source": [
    "g_parallel_0 = np.zeros((len(wlist), len(Alist)))\n",
    "\n",
    "for i,A_q in enumerate(Alist):\n",
    "\n",
    "    if device == 'charge_qubit':\n",
    "        g_parallel_0[:, i] = g*A_q*wq*np.ones(len(wlist))/((wq*np.ones(len(wlist)))**2-wlist**2)\n",
    "\n",
    "    elif device == 'transmon':\n",
    "        n01_modulo_squared = 1/2*np.sqrt(Ejeff/(8*EC))\n",
    "        \n",
    "        evals_analytical = np.zeros((len(wlist), n_states))\n",
    "        evals_floquet_analytical = np.zeros((len(wlist), 2))\n",
    "\n",
    "        for j in range(n_states):\n",
    "            evals_analytical[:, j] = (-Ejeff + np.sqrt(8*Ejeff*EC)*(j+1/2) - EC/12*(6*j**2 + 6*j + 3))*np.ones(len(wlist))\n",
    "            \n",
    "        evals_floquet_analytical[:, 0] = evals_analytical[:,0] - n01_modulo_squared*wq*np.ones(len(wlist))/(wq**2*np.ones(len(wlist)) - wlist**2)\n",
    "        evals_floquet_analytical[:, 1] = evals_analytical[:,1] + n01_modulo_squared*(wq*np.ones(len(wlist))/(wq**2*np.ones(len(wlist)) - wlist**2)*-2*(wq-EC)*np.ones(len(wlist))/((wq-EC)**2*np.ones(len(wlist))-wlist**2))\n",
    "\n",
    "        g_parallel_0[:, i] = g*A_q/2*(n01_modulo_squared*(wq*np.ones(len(wlist))/(wq**2*np.ones(len(wlist)) - wlist**2)*-2*(wq-EC)*np.ones(len(wlist))/((wq-EC)**2*np.ones(len(wlist))-wlist**2))+n01_modulo_squared*wq*np.ones(len(wlist))/(wq**2*np.ones(len(wlist)) - wlist**2))"
   ]
  },
  {
   "cell_type": "code",
   "execution_count": 17,
   "metadata": {},
   "outputs": [
    {
     "name": "stderr",
     "output_type": "stream",
     "text": [
      "ComplexWarning: Casting complex values to real discards the imaginary part\n",
      " /home/alessandro/python/venv/lib/python3.10/site-packages/matplotlib/cbook.py: 1699ComplexWarning: Casting complex values to real discards the imaginary part\n",
      " /home/alessandro/python/venv/lib/python3.10/site-packages/matplotlib/cbook.py: 1345"
     ]
    },
    {
     "data": {
      "image/png": "[encoded data removed]",
      "text/plain": [
       "<Figure size 432x288 with 1 Axes>"
      ]
     },
     "metadata": {
      "needs_background": "light"
     },
     "output_type": "display_data"
    }
   ],
   "source": [
    "%matplotlib inline\n",
    "\n",
    "import matplotlib.colors as mcolors\n",
    "cmap = mpl.colormaps[\"tab10\"]  # type: matplotlib.colors.ListedColormap\n",
    "colors = cmap.colors  # type: list\n",
    "\n",
    "fig, ax = plt.subplots()\n",
    "\n",
    "for idx, A_q in enumerate(Alist):\n",
    "    if g_parallel_0.any():\n",
    "        ax.plot(wlist/wq, g_parallel[:,idx]/g_parallel_0[:,idx], color=colors[idx], label=r'$g_\\parallel$')\n",
    "\n",
    "    else:     \n",
    "        ax.plot(wlist/wq, g_parallel[:,idx], color=colors[idx], label=r'$g_\\parallel$')\n",
    "\n",
    "ax.set_xlabel(r'$\\omega_r/\\omega_q$')\n",
    "\n",
    "if g_parallel_0.any():\n",
    "    ax.set_ylabel(r'$g_\\parallel/g_\\parallel^{(0)}$')\n",
    "else:\n",
    "    ax.set_ylabel(r'$g_\\parallel$')\n",
    "\n",
    "if g_parallel_0.any():\n",
    "    ax.set_ylim(0,0.1)\n",
    "\n",
    "else:\n",
    "    ax.set_ylim(-0.1,0.1)\n",
    "\n",
    "plt.show()"
   ]
  },
  {
   "cell_type": "code",
   "execution_count": 23,
   "metadata": {},
   "outputs": [],
   "source": [
    "if save_file:\n",
    "    fname = 'data/'+device+'/'+device+'_g_parallel'\n",
    "\n",
    "    np.savez(fname, Alist=Alist, wlist=wlist, g_parallel=g_parallel, g_parallel_0=g_parallel_0)"
   ]
  }
 ],
 "metadata": {
  "kernelspec": {
   "display_name": "my_python",
   "language": "python",
   "name": "python3"
  },
  "language_info": {
   "codemirror_mode": {
    "name": "ipython",
    "version": 3
   },
   "file_extension": ".py",
   "mimetype": "text/x-python",
   "name": "python",
   "nbconvert_exporter": "python",
   "pygments_lexer": "ipython3",
   "version": "3.10.12"
  }
 },
 "nbformat": 4,
 "nbformat_minor": 2
}
